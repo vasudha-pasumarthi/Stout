{
  "cells": [
    {
      "cell_type": "code",
      "execution_count": 1,
      "metadata": {
        "id": "pTQ3Z3hv3P7m"
      },
      "outputs": [],
      "source": [
        "#Importing necessary libraries\n",
        "import pandas as pd\n",
        "import numpy as np\n"
      ]
    },
    {
      "cell_type": "markdown",
      "metadata": {
        "id": "a16UN1NtZIke"
      },
      "source": [
        "Reading the Dataframe"
      ]
    },
    {
      "cell_type": "code",
      "execution_count": 2,
      "metadata": {
        "id": "zDICakeRZJBD"
      },
      "outputs": [],
      "source": [
        "df = pd.read_csv(\"casestudy.csv\")"
      ]
    },
    {
      "cell_type": "markdown",
      "metadata": {
        "id": "GH0Lx5IAZoC9"
      },
      "source": [
        "Exploring the dataset"
      ]
    },
    {
      "cell_type": "code",
      "execution_count": 3,
      "metadata": {
        "colab": {
          "base_uri": "https://localhost:8080/"
        },
        "id": "t8tiyQqZ34fB",
        "outputId": "85dbd33a-e281-46f1-8fd4-e611c7949f6a"
      },
      "outputs": [
        {
          "name": "stdout",
          "output_type": "stream",
          "text": [
            "<class 'pandas.core.frame.DataFrame'>\n",
            "RangeIndex: 685927 entries, 0 to 685926\n",
            "Data columns (total 4 columns):\n",
            " #   Column          Non-Null Count   Dtype  \n",
            "---  ------          --------------   -----  \n",
            " 0   Unnamed: 0      685927 non-null  int64  \n",
            " 1   customer_email  685927 non-null  object \n",
            " 2   net_revenue     685927 non-null  float64\n",
            " 3   year            685927 non-null  int64  \n",
            "dtypes: float64(1), int64(2), object(1)\n",
            "memory usage: 20.9+ MB\n"
          ]
        }
      ],
      "source": [
        "df.info()"
      ]
    },
    {
      "cell_type": "code",
      "execution_count": 4,
      "metadata": {
        "colab": {
          "base_uri": "https://localhost:8080/",
          "height": 203
        },
        "id": "JfgH2rm-38O4",
        "outputId": "a3f06a0b-5a78-41fc-80f7-949156120c2c"
      },
      "outputs": [
        {
          "data": {
            "text/html": [
              "<div>\n",
              "<style scoped>\n",
              "    .dataframe tbody tr th:only-of-type {\n",
              "        vertical-align: middle;\n",
              "    }\n",
              "\n",
              "    .dataframe tbody tr th {\n",
              "        vertical-align: top;\n",
              "    }\n",
              "\n",
              "    .dataframe thead th {\n",
              "        text-align: right;\n",
              "    }\n",
              "</style>\n",
              "<table border=\"1\" class=\"dataframe\">\n",
              "  <thead>\n",
              "    <tr style=\"text-align: right;\">\n",
              "      <th></th>\n",
              "      <th>Unnamed: 0</th>\n",
              "      <th>customer_email</th>\n",
              "      <th>net_revenue</th>\n",
              "      <th>year</th>\n",
              "    </tr>\n",
              "  </thead>\n",
              "  <tbody>\n",
              "    <tr>\n",
              "      <th>0</th>\n",
              "      <td>0</td>\n",
              "      <td>nhknapwsbx@gmail.com</td>\n",
              "      <td>249.92</td>\n",
              "      <td>2015</td>\n",
              "    </tr>\n",
              "    <tr>\n",
              "      <th>1</th>\n",
              "      <td>1</td>\n",
              "      <td>joiuzbvcpn@gmail.com</td>\n",
              "      <td>87.61</td>\n",
              "      <td>2015</td>\n",
              "    </tr>\n",
              "    <tr>\n",
              "      <th>2</th>\n",
              "      <td>2</td>\n",
              "      <td>ukkjctepxt@gmail.com</td>\n",
              "      <td>168.38</td>\n",
              "      <td>2015</td>\n",
              "    </tr>\n",
              "    <tr>\n",
              "      <th>3</th>\n",
              "      <td>3</td>\n",
              "      <td>gykatilzrt@gmail.com</td>\n",
              "      <td>62.40</td>\n",
              "      <td>2015</td>\n",
              "    </tr>\n",
              "    <tr>\n",
              "      <th>4</th>\n",
              "      <td>4</td>\n",
              "      <td>mmsgsrtxah@gmail.com</td>\n",
              "      <td>43.08</td>\n",
              "      <td>2015</td>\n",
              "    </tr>\n",
              "  </tbody>\n",
              "</table>\n",
              "</div>"
            ],
            "text/plain": [
              "   Unnamed: 0         customer_email  net_revenue  year\n",
              "0           0   nhknapwsbx@gmail.com       249.92  2015\n",
              "1           1   joiuzbvcpn@gmail.com        87.61  2015\n",
              "2           2   ukkjctepxt@gmail.com       168.38  2015\n",
              "3           3   gykatilzrt@gmail.com        62.40  2015\n",
              "4           4   mmsgsrtxah@gmail.com        43.08  2015"
            ]
          },
          "execution_count": 4,
          "metadata": {},
          "output_type": "execute_result"
        }
      ],
      "source": [
        "df.head()"
      ]
    },
    {
      "cell_type": "markdown",
      "metadata": {
        "id": "iPvU8cyx4JaF"
      },
      "source": [
        "Revenue of the current year\n"
      ]
    },
    {
      "cell_type": "code",
      "execution_count": 5,
      "metadata": {
        "colab": {
          "base_uri": "https://localhost:8080/"
        },
        "id": "jJk2x99C3_ZS",
        "outputId": "8274c0fd-8ea4-4a26-d9e4-21df28ec9bb6"
      },
      "outputs": [
        {
          "data": {
            "text/plain": [
              "2017    249987\n",
              "2015    231294\n",
              "2016    204646\n",
              "Name: year, dtype: int64"
            ]
          },
          "execution_count": 5,
          "metadata": {},
          "output_type": "execute_result"
        }
      ],
      "source": [
        "df['year'].value_counts()"
      ]
    },
    {
      "cell_type": "code",
      "execution_count": 6,
      "metadata": {
        "colab": {
          "base_uri": "https://localhost:8080/",
          "height": 172
        },
        "id": "Z9A0sbvB4Sx7",
        "outputId": "e739252d-cbbe-44e3-9340-0f60d5f33eb9"
      },
      "outputs": [
        {
          "data": {
            "text/html": [
              "<div>\n",
              "<style scoped>\n",
              "    .dataframe tbody tr th:only-of-type {\n",
              "        vertical-align: middle;\n",
              "    }\n",
              "\n",
              "    .dataframe tbody tr th {\n",
              "        vertical-align: top;\n",
              "    }\n",
              "\n",
              "    .dataframe thead th {\n",
              "        text-align: right;\n",
              "    }\n",
              "</style>\n",
              "<table border=\"1\" class=\"dataframe\">\n",
              "  <thead>\n",
              "    <tr style=\"text-align: right;\">\n",
              "      <th></th>\n",
              "      <th>net_revenue</th>\n",
              "    </tr>\n",
              "    <tr>\n",
              "      <th>year</th>\n",
              "      <th></th>\n",
              "    </tr>\n",
              "  </thead>\n",
              "  <tbody>\n",
              "    <tr>\n",
              "      <th>2015</th>\n",
              "      <td>29036749.19</td>\n",
              "    </tr>\n",
              "    <tr>\n",
              "      <th>2016</th>\n",
              "      <td>25730943.59</td>\n",
              "    </tr>\n",
              "    <tr>\n",
              "      <th>2017</th>\n",
              "      <td>31417495.03</td>\n",
              "    </tr>\n",
              "  </tbody>\n",
              "</table>\n",
              "</div>"
            ],
            "text/plain": [
              "      net_revenue\n",
              "year             \n",
              "2015  29036749.19\n",
              "2016  25730943.59\n",
              "2017  31417495.03"
            ]
          },
          "execution_count": 6,
          "metadata": {},
          "output_type": "execute_result"
        }
      ],
      "source": [
        "#Current year is 2017 . So calculating the net revenue of the current year\n",
        "df.groupby(['year'])[['net_revenue']].sum()"
      ]
    },
    {
      "cell_type": "markdown",
      "metadata": {
        "id": "EhPjIRNd8gUO"
      },
      "source": [
        "Revenue of New customers"
      ]
    },
    {
      "cell_type": "code",
      "execution_count": 7,
      "metadata": {
        "id": "Tm5bBjcAOfVb"
      },
      "outputs": [],
      "source": [
        "#finding the count of unique customer emails\n",
        "customer_array = np.array(np.unique(df['customer_email'], return_counts=True)).T"
      ]
    },
    {
      "cell_type": "code",
      "execution_count": 8,
      "metadata": {
        "id": "8I3u79ePPDc8"
      },
      "outputs": [],
      "source": [
        "#Converting the above values to a unique dataframe with 2 columns.\n",
        "df1 = pd.DataFrame(customer_array, columns = ['Column_A','Column_B'])"
      ]
    },
    {
      "cell_type": "code",
      "execution_count": 9,
      "metadata": {
        "colab": {
          "base_uri": "https://localhost:8080/",
          "height": 203
        },
        "id": "TmJiiz-OQ4Va",
        "outputId": "631ba556-8f7d-4689-8ac0-525b458fe630"
      },
      "outputs": [
        {
          "data": {
            "text/html": [
              "<div>\n",
              "<style scoped>\n",
              "    .dataframe tbody tr th:only-of-type {\n",
              "        vertical-align: middle;\n",
              "    }\n",
              "\n",
              "    .dataframe tbody tr th {\n",
              "        vertical-align: top;\n",
              "    }\n",
              "\n",
              "    .dataframe thead th {\n",
              "        text-align: right;\n",
              "    }\n",
              "</style>\n",
              "<table border=\"1\" class=\"dataframe\">\n",
              "  <thead>\n",
              "    <tr style=\"text-align: right;\">\n",
              "      <th></th>\n",
              "      <th>Column_A</th>\n",
              "      <th>Column_B</th>\n",
              "    </tr>\n",
              "  </thead>\n",
              "  <tbody>\n",
              "    <tr>\n",
              "      <th>0</th>\n",
              "      <td>aaafxtkgxo@gmail.com</td>\n",
              "      <td>1</td>\n",
              "    </tr>\n",
              "    <tr>\n",
              "      <th>1</th>\n",
              "      <td>aaagldjgdt@gmail.com</td>\n",
              "      <td>1</td>\n",
              "    </tr>\n",
              "    <tr>\n",
              "      <th>2</th>\n",
              "      <td>aaaglfuvti@gmail.com</td>\n",
              "      <td>1</td>\n",
              "    </tr>\n",
              "    <tr>\n",
              "      <th>3</th>\n",
              "      <td>aaaicvtnzx@gmail.com</td>\n",
              "      <td>1</td>\n",
              "    </tr>\n",
              "    <tr>\n",
              "      <th>4</th>\n",
              "      <td>aaaiekepot@gmail.com</td>\n",
              "      <td>1</td>\n",
              "    </tr>\n",
              "  </tbody>\n",
              "</table>\n",
              "</div>"
            ],
            "text/plain": [
              "                Column_A Column_B\n",
              "0   aaafxtkgxo@gmail.com        1\n",
              "1   aaagldjgdt@gmail.com        1\n",
              "2   aaaglfuvti@gmail.com        1\n",
              "3   aaaicvtnzx@gmail.com        1\n",
              "4   aaaiekepot@gmail.com        1"
            ]
          },
          "execution_count": 9,
          "metadata": {},
          "output_type": "execute_result"
        }
      ],
      "source": [
        "df1.head()"
      ]
    },
    {
      "cell_type": "code",
      "execution_count": 12,
      "metadata": {
        "id": "o_RX4jORPDfh"
      },
      "outputs": [],
      "source": [
        "#dropping emails with count of 1\n",
        "df1 = df1.loc[df1[\"Column_B\"] == 1]"
      ]
    },
    {
      "cell_type": "code",
      "execution_count": 14,
      "metadata": {
        "colab": {
          "base_uri": "https://localhost:8080/",
          "height": 295
        },
        "id": "4Kb7bw3rPDiy",
        "outputId": "21edce46-2fa7-424a-d701-89bd49ac2544"
      },
      "outputs": [
        {
          "data": {
            "text/html": [
              "<div>\n",
              "<style scoped>\n",
              "    .dataframe tbody tr th:only-of-type {\n",
              "        vertical-align: middle;\n",
              "    }\n",
              "\n",
              "    .dataframe tbody tr th {\n",
              "        vertical-align: top;\n",
              "    }\n",
              "\n",
              "    .dataframe thead th {\n",
              "        text-align: right;\n",
              "    }\n",
              "</style>\n",
              "<table border=\"1\" class=\"dataframe\">\n",
              "  <thead>\n",
              "    <tr style=\"text-align: right;\">\n",
              "      <th></th>\n",
              "      <th>Unnamed: 0</th>\n",
              "      <th>net_revenue</th>\n",
              "      <th>year</th>\n",
              "    </tr>\n",
              "  </thead>\n",
              "  <tbody>\n",
              "    <tr>\n",
              "      <th>count</th>\n",
              "      <td>529471.000000</td>\n",
              "      <td>529471.000000</td>\n",
              "      <td>529471.000000</td>\n",
              "    </tr>\n",
              "    <tr>\n",
              "      <th>mean</th>\n",
              "      <td>363682.823040</td>\n",
              "      <td>125.691451</td>\n",
              "      <td>2016.108255</td>\n",
              "    </tr>\n",
              "    <tr>\n",
              "      <th>std</th>\n",
              "      <td>202893.586372</td>\n",
              "      <td>71.839520</td>\n",
              "      <td>0.861541</td>\n",
              "    </tr>\n",
              "    <tr>\n",
              "      <th>min</th>\n",
              "      <td>0.000000</td>\n",
              "      <td>1.000000</td>\n",
              "      <td>2015.000000</td>\n",
              "    </tr>\n",
              "    <tr>\n",
              "      <th>25%</th>\n",
              "      <td>187621.500000</td>\n",
              "      <td>63.570000</td>\n",
              "      <td>2015.000000</td>\n",
              "    </tr>\n",
              "    <tr>\n",
              "      <th>50%</th>\n",
              "      <td>378693.000000</td>\n",
              "      <td>125.810000</td>\n",
              "      <td>2016.000000</td>\n",
              "    </tr>\n",
              "    <tr>\n",
              "      <th>75%</th>\n",
              "      <td>543300.500000</td>\n",
              "      <td>187.910000</td>\n",
              "      <td>2017.000000</td>\n",
              "    </tr>\n",
              "    <tr>\n",
              "      <th>max</th>\n",
              "      <td>685926.000000</td>\n",
              "      <td>250.000000</td>\n",
              "      <td>2017.000000</td>\n",
              "    </tr>\n",
              "  </tbody>\n",
              "</table>\n",
              "</div>"
            ],
            "text/plain": [
              "          Unnamed: 0    net_revenue           year\n",
              "count  529471.000000  529471.000000  529471.000000\n",
              "mean   363682.823040     125.691451    2016.108255\n",
              "std    202893.586372      71.839520       0.861541\n",
              "min         0.000000       1.000000    2015.000000\n",
              "25%    187621.500000      63.570000    2015.000000\n",
              "50%    378693.000000     125.810000    2016.000000\n",
              "75%    543300.500000     187.910000    2017.000000\n",
              "max    685926.000000     250.000000    2017.000000"
            ]
          },
          "execution_count": 14,
          "metadata": {},
          "output_type": "execute_result"
        }
      ],
      "source": [
        "#creating a new dataframe from existing dataframe with unique mails\n",
        "df_customer = df[df['customer_email'].isin(df1['Column_A'])]\n",
        "df_customer.describe()"
      ]
    },
    {
      "cell_type": "code",
      "execution_count": 15,
      "metadata": {
        "colab": {
          "base_uri": "https://localhost:8080/",
          "height": 172
        },
        "id": "E6uOcmk2PDla",
        "outputId": "a0455aa9-d467-49b3-fd47-428e9c5e1f75"
      },
      "outputs": [
        {
          "data": {
            "text/html": [
              "<div>\n",
              "<style scoped>\n",
              "    .dataframe tbody tr th:only-of-type {\n",
              "        vertical-align: middle;\n",
              "    }\n",
              "\n",
              "    .dataframe tbody tr th {\n",
              "        vertical-align: top;\n",
              "    }\n",
              "\n",
              "    .dataframe thead th {\n",
              "        text-align: right;\n",
              "    }\n",
              "</style>\n",
              "<table border=\"1\" class=\"dataframe\">\n",
              "  <thead>\n",
              "    <tr style=\"text-align: right;\">\n",
              "      <th></th>\n",
              "      <th>net_revenue</th>\n",
              "    </tr>\n",
              "    <tr>\n",
              "      <th>year</th>\n",
              "      <th></th>\n",
              "    </tr>\n",
              "  </thead>\n",
              "  <tbody>\n",
              "    <tr>\n",
              "      <th>2015</th>\n",
              "      <td>2.147600e+07</td>\n",
              "    </tr>\n",
              "    <tr>\n",
              "      <th>2016</th>\n",
              "      <td>1.639737e+07</td>\n",
              "    </tr>\n",
              "    <tr>\n",
              "      <th>2017</th>\n",
              "      <td>2.867661e+07</td>\n",
              "    </tr>\n",
              "  </tbody>\n",
              "</table>\n",
              "</div>"
            ],
            "text/plain": [
              "       net_revenue\n",
              "year              \n",
              "2015  2.147600e+07\n",
              "2016  1.639737e+07\n",
              "2017  2.867661e+07"
            ]
          },
          "execution_count": 15,
          "metadata": {},
          "output_type": "execute_result"
        }
      ],
      "source": [
        "df_customer.groupby(['year'])[['net_revenue']].sum()\n"
      ]
    },
    {
      "cell_type": "markdown",
      "metadata": {
        "id": "fri5aXQhSDn6"
      },
      "source": [
        "New Customer Revenue is 2.8677661e+07"
      ]
    },
    {
      "cell_type": "markdown",
      "metadata": {
        "id": "p-ji7Z3bMmlf"
      },
      "source": [
        "***Existing Customer Growth.***"
      ]
    },
    {
      "cell_type": "code",
      "execution_count": 16,
      "metadata": {
        "id": "c5bmKwnqQ0S-"
      },
      "outputs": [],
      "source": [
        "#defining df with customer_email and their frequency counts\n",
        "df2 = pd.DataFrame(customer_array, columns = ['Column_A','Column_B'])"
      ]
    },
    {
      "cell_type": "code",
      "execution_count": 17,
      "metadata": {
        "colab": {
          "base_uri": "https://localhost:8080/",
          "height": 172
        },
        "id": "I3La1ChRQ0WQ",
        "outputId": "b91afb2f-091a-4db8-d1a1-9d601f1159af"
      },
      "outputs": [
        {
          "data": {
            "text/html": [
              "<div>\n",
              "<style scoped>\n",
              "    .dataframe tbody tr th:only-of-type {\n",
              "        vertical-align: middle;\n",
              "    }\n",
              "\n",
              "    .dataframe tbody tr th {\n",
              "        vertical-align: top;\n",
              "    }\n",
              "\n",
              "    .dataframe thead th {\n",
              "        text-align: right;\n",
              "    }\n",
              "</style>\n",
              "<table border=\"1\" class=\"dataframe\">\n",
              "  <thead>\n",
              "    <tr style=\"text-align: right;\">\n",
              "      <th></th>\n",
              "      <th>Column_A</th>\n",
              "      <th>Column_B</th>\n",
              "    </tr>\n",
              "  </thead>\n",
              "  <tbody>\n",
              "    <tr>\n",
              "      <th>count</th>\n",
              "      <td>604618</td>\n",
              "      <td>604618</td>\n",
              "    </tr>\n",
              "    <tr>\n",
              "      <th>unique</th>\n",
              "      <td>604618</td>\n",
              "      <td>3</td>\n",
              "    </tr>\n",
              "    <tr>\n",
              "      <th>top</th>\n",
              "      <td>bznasflwcl@gmail.com</td>\n",
              "      <td>1</td>\n",
              "    </tr>\n",
              "    <tr>\n",
              "      <th>freq</th>\n",
              "      <td>1</td>\n",
              "      <td>529471</td>\n",
              "    </tr>\n",
              "  </tbody>\n",
              "</table>\n",
              "</div>"
            ],
            "text/plain": [
              "                    Column_A  Column_B\n",
              "count                 604618    604618\n",
              "unique                604618         3\n",
              "top     bznasflwcl@gmail.com         1\n",
              "freq                       1    529471"
            ]
          },
          "execution_count": 17,
          "metadata": {},
          "output_type": "execute_result"
        }
      ],
      "source": [
        "df2.describe()"
      ]
    },
    {
      "cell_type": "code",
      "execution_count": 21,
      "metadata": {
        "id": "dXY0FoD1Q0Zb"
      },
      "outputs": [],
      "source": [
        "#dropping email with count equal to 1\n",
        "#it makes sure that only existing customers are included in the calculation of reveneue\n",
        "df2 = df2.loc[df2[\"Column_B\"] != 1]"
      ]
    },
    {
      "cell_type": "code",
      "execution_count": 22,
      "metadata": {
        "colab": {
          "base_uri": "https://localhost:8080/"
        },
        "id": "R_WJrsd7Q0cO",
        "outputId": "3846021a-7405-48e9-ab68-96e96d2884a0"
      },
      "outputs": [
        {
          "data": {
            "text/plain": [
              "2    68985\n",
              "3     6162\n",
              "Name: Column_B, dtype: int64"
            ]
          },
          "execution_count": 22,
          "metadata": {},
          "output_type": "execute_result"
        }
      ],
      "source": [
        "df2['Column_B'].value_counts()"
      ]
    },
    {
      "cell_type": "code",
      "execution_count": 23,
      "metadata": {
        "id": "RRNqlnFcQ0h8"
      },
      "outputs": [],
      "source": [
        "#creating another dataframe with datas from year 2017\n",
        "dfcurrent = df[df['year']==2017]"
      ]
    },
    {
      "cell_type": "code",
      "execution_count": 26,
      "metadata": {
        "id": "h-Lqb_SLRbQB"
      },
      "outputs": [],
      "source": [
        "#dropping the new customers from year 2017\n",
        "dfcurrent = dfcurrent[dfcurrent['customer_email'].isin(df1['Column_A'])]"
      ]
    },
    {
      "cell_type": "code",
      "execution_count": 28,
      "metadata": {
        "colab": {
          "base_uri": "https://localhost:8080/",
          "height": 295
        },
        "id": "S4LN9JGHRbS-",
        "outputId": "ca4b2d7d-0003-41c6-cced-898180772e62"
      },
      "outputs": [
        {
          "data": {
            "text/html": [
              "<div>\n",
              "<style scoped>\n",
              "    .dataframe tbody tr th:only-of-type {\n",
              "        vertical-align: middle;\n",
              "    }\n",
              "\n",
              "    .dataframe tbody tr th {\n",
              "        vertical-align: top;\n",
              "    }\n",
              "\n",
              "    .dataframe thead th {\n",
              "        text-align: right;\n",
              "    }\n",
              "</style>\n",
              "<table border=\"1\" class=\"dataframe\">\n",
              "  <thead>\n",
              "    <tr style=\"text-align: right;\">\n",
              "      <th></th>\n",
              "      <th>Unnamed: 0</th>\n",
              "      <th>net_revenue</th>\n",
              "      <th>year</th>\n",
              "    </tr>\n",
              "  </thead>\n",
              "  <tbody>\n",
              "    <tr>\n",
              "      <th>count</th>\n",
              "      <td>228262.000000</td>\n",
              "      <td>228262.000000</td>\n",
              "      <td>228262.0</td>\n",
              "    </tr>\n",
              "    <tr>\n",
              "      <th>mean</th>\n",
              "      <td>563109.774408</td>\n",
              "      <td>125.630230</td>\n",
              "      <td>2017.0</td>\n",
              "    </tr>\n",
              "    <tr>\n",
              "      <th>std</th>\n",
              "      <td>72901.987265</td>\n",
              "      <td>71.880915</td>\n",
              "      <td>0.0</td>\n",
              "    </tr>\n",
              "    <tr>\n",
              "      <th>min</th>\n",
              "      <td>435940.000000</td>\n",
              "      <td>1.000000</td>\n",
              "      <td>2017.0</td>\n",
              "    </tr>\n",
              "    <tr>\n",
              "      <th>25%</th>\n",
              "      <td>499848.250000</td>\n",
              "      <td>63.430000</td>\n",
              "      <td>2017.0</td>\n",
              "    </tr>\n",
              "    <tr>\n",
              "      <th>50%</th>\n",
              "      <td>563634.500000</td>\n",
              "      <td>125.740000</td>\n",
              "      <td>2017.0</td>\n",
              "    </tr>\n",
              "    <tr>\n",
              "      <th>75%</th>\n",
              "      <td>627452.750000</td>\n",
              "      <td>187.880000</td>\n",
              "      <td>2017.0</td>\n",
              "    </tr>\n",
              "    <tr>\n",
              "      <th>max</th>\n",
              "      <td>685926.000000</td>\n",
              "      <td>250.000000</td>\n",
              "      <td>2017.0</td>\n",
              "    </tr>\n",
              "  </tbody>\n",
              "</table>\n",
              "</div>"
            ],
            "text/plain": [
              "          Unnamed: 0    net_revenue      year\n",
              "count  228262.000000  228262.000000  228262.0\n",
              "mean   563109.774408     125.630230    2017.0\n",
              "std     72901.987265      71.880915       0.0\n",
              "min    435940.000000       1.000000    2017.0\n",
              "25%    499848.250000      63.430000    2017.0\n",
              "50%    563634.500000     125.740000    2017.0\n",
              "75%    627452.750000     187.880000    2017.0\n",
              "max    685926.000000     250.000000    2017.0"
            ]
          },
          "execution_count": 28,
          "metadata": {},
          "output_type": "execute_result"
        }
      ],
      "source": [
        "dfcurrent.describe()"
      ]
    },
    {
      "cell_type": "code",
      "execution_count": 29,
      "metadata": {
        "id": "7kozZpm6RbV2"
      },
      "outputs": [],
      "source": [
        "#finally collecting the exisiting customers from previous year\n",
        "current = df[df['customer_email'].isin(dfcurrent['customer_email'])]"
      ]
    },
    {
      "cell_type": "code",
      "execution_count": 30,
      "metadata": {
        "colab": {
          "base_uri": "https://localhost:8080/",
          "height": 295
        },
        "id": "uUYiVK2iTSqQ",
        "outputId": "c8505589-c3e8-4ac2-ab81-f3c361c59267"
      },
      "outputs": [
        {
          "data": {
            "text/html": [
              "<div>\n",
              "<style scoped>\n",
              "    .dataframe tbody tr th:only-of-type {\n",
              "        vertical-align: middle;\n",
              "    }\n",
              "\n",
              "    .dataframe tbody tr th {\n",
              "        vertical-align: top;\n",
              "    }\n",
              "\n",
              "    .dataframe thead th {\n",
              "        text-align: right;\n",
              "    }\n",
              "</style>\n",
              "<table border=\"1\" class=\"dataframe\">\n",
              "  <thead>\n",
              "    <tr style=\"text-align: right;\">\n",
              "      <th></th>\n",
              "      <th>Unnamed: 0</th>\n",
              "      <th>net_revenue</th>\n",
              "      <th>year</th>\n",
              "    </tr>\n",
              "  </thead>\n",
              "  <tbody>\n",
              "    <tr>\n",
              "      <th>count</th>\n",
              "      <td>228262.000000</td>\n",
              "      <td>228262.000000</td>\n",
              "      <td>228262.0</td>\n",
              "    </tr>\n",
              "    <tr>\n",
              "      <th>mean</th>\n",
              "      <td>563109.774408</td>\n",
              "      <td>125.630230</td>\n",
              "      <td>2017.0</td>\n",
              "    </tr>\n",
              "    <tr>\n",
              "      <th>std</th>\n",
              "      <td>72901.987265</td>\n",
              "      <td>71.880915</td>\n",
              "      <td>0.0</td>\n",
              "    </tr>\n",
              "    <tr>\n",
              "      <th>min</th>\n",
              "      <td>435940.000000</td>\n",
              "      <td>1.000000</td>\n",
              "      <td>2017.0</td>\n",
              "    </tr>\n",
              "    <tr>\n",
              "      <th>25%</th>\n",
              "      <td>499848.250000</td>\n",
              "      <td>63.430000</td>\n",
              "      <td>2017.0</td>\n",
              "    </tr>\n",
              "    <tr>\n",
              "      <th>50%</th>\n",
              "      <td>563634.500000</td>\n",
              "      <td>125.740000</td>\n",
              "      <td>2017.0</td>\n",
              "    </tr>\n",
              "    <tr>\n",
              "      <th>75%</th>\n",
              "      <td>627452.750000</td>\n",
              "      <td>187.880000</td>\n",
              "      <td>2017.0</td>\n",
              "    </tr>\n",
              "    <tr>\n",
              "      <th>max</th>\n",
              "      <td>685926.000000</td>\n",
              "      <td>250.000000</td>\n",
              "      <td>2017.0</td>\n",
              "    </tr>\n",
              "  </tbody>\n",
              "</table>\n",
              "</div>"
            ],
            "text/plain": [
              "          Unnamed: 0    net_revenue      year\n",
              "count  228262.000000  228262.000000  228262.0\n",
              "mean   563109.774408     125.630230    2017.0\n",
              "std     72901.987265      71.880915       0.0\n",
              "min    435940.000000       1.000000    2017.0\n",
              "25%    499848.250000      63.430000    2017.0\n",
              "50%    563634.500000     125.740000    2017.0\n",
              "75%    627452.750000     187.880000    2017.0\n",
              "max    685926.000000     250.000000    2017.0"
            ]
          },
          "execution_count": 30,
          "metadata": {},
          "output_type": "execute_result"
        }
      ],
      "source": [
        "current.describe()"
      ]
    },
    {
      "cell_type": "code",
      "execution_count": 31,
      "metadata": {
        "colab": {
          "base_uri": "https://localhost:8080/",
          "height": 110
        },
        "id": "VZXYjveuTStR",
        "outputId": "91f32940-32e4-439c-9a62-d4f97644e244"
      },
      "outputs": [
        {
          "data": {
            "text/html": [
              "<div>\n",
              "<style scoped>\n",
              "    .dataframe tbody tr th:only-of-type {\n",
              "        vertical-align: middle;\n",
              "    }\n",
              "\n",
              "    .dataframe tbody tr th {\n",
              "        vertical-align: top;\n",
              "    }\n",
              "\n",
              "    .dataframe thead th {\n",
              "        text-align: right;\n",
              "    }\n",
              "</style>\n",
              "<table border=\"1\" class=\"dataframe\">\n",
              "  <thead>\n",
              "    <tr style=\"text-align: right;\">\n",
              "      <th></th>\n",
              "      <th>net_revenue</th>\n",
              "    </tr>\n",
              "    <tr>\n",
              "      <th>year</th>\n",
              "      <th></th>\n",
              "    </tr>\n",
              "  </thead>\n",
              "  <tbody>\n",
              "    <tr>\n",
              "      <th>2017</th>\n",
              "      <td>28676607.64</td>\n",
              "    </tr>\n",
              "  </tbody>\n",
              "</table>\n",
              "</div>"
            ],
            "text/plain": [
              "      net_revenue\n",
              "year             \n",
              "2017  28676607.64"
            ]
          },
          "execution_count": 31,
          "metadata": {},
          "output_type": "execute_result"
        }
      ],
      "source": [
        "current.groupby(['year'])[['net_revenue']].sum()"
      ]
    },
    {
      "cell_type": "markdown",
      "metadata": {
        "id": "9I3G-P4EUbwa"
      },
      "source": [
        "***Revenue lost from attrition***"
      ]
    },
    {
      "cell_type": "code",
      "execution_count": 32,
      "metadata": {
        "id": "te8nVGQjTSwb"
      },
      "outputs": [],
      "source": [
        "#to find the revenue lost from attrition we have to see how many customers we lost in 2017\n",
        "#converting the unique mails and counts to a data frame\n",
        "df3 = pd.DataFrame(customer_array, columns = ['Column_A','Column_B'])"
      ]
    },
    {
      "cell_type": "code",
      "execution_count": 34,
      "metadata": {
        "id": "5FU9vk99am_m"
      },
      "outputs": [],
      "source": [
        "#dropping email with count more than 1\n",
        "df3 = df3.loc[df3[\"Column_B\"] == 1]"
      ]
    },
    {
      "cell_type": "code",
      "execution_count": 35,
      "metadata": {
        "id": "xXkdv2y7anCU"
      },
      "outputs": [],
      "source": [
        "#creating another dataframe with datas from year 2016\n",
        "dfprev = df[df['year']==2016]"
      ]
    },
    {
      "cell_type": "code",
      "execution_count": 36,
      "metadata": {
        "id": "PsGJvfkwfrTQ"
      },
      "outputs": [],
      "source": [
        "#finally collecting the unique customers in year 2016\n",
        "prev = dfprev[dfprev['customer_email'].isin(df1['Column_A'])]"
      ]
    },
    {
      "cell_type": "code",
      "execution_count": 37,
      "metadata": {
        "colab": {
          "base_uri": "https://localhost:8080/"
        },
        "id": "J1VMTlqhfrWY",
        "outputId": "6e8398be-66c9-4bf9-f389-092268e55a9a"
      },
      "outputs": [
        {
          "data": {
            "text/plain": [
              "16397370.16"
            ]
          },
          "execution_count": 37,
          "metadata": {},
          "output_type": "execute_result"
        }
      ],
      "source": [
        "prev['net_revenue'].sum()"
      ]
    },
    {
      "cell_type": "code",
      "execution_count": 38,
      "metadata": {
        "id": "8EgDa5MefrZO"
      },
      "outputs": [],
      "source": [
        "#creating another dataframe with datas from year 2015\n",
        "dfold = df[df['year']==2015]"
      ]
    },
    {
      "cell_type": "code",
      "execution_count": 39,
      "metadata": {
        "id": "n1J3wUR2anOo"
      },
      "outputs": [],
      "source": [
        "#finally collecting the unique customers in year 2015\n",
        "old = dfold[dfold['customer_email'].isin(df1['Column_A'])]"
      ]
    },
    {
      "cell_type": "code",
      "execution_count": 40,
      "metadata": {
        "colab": {
          "base_uri": "https://localhost:8080/"
        },
        "id": "k_-spS_QTSzN",
        "outputId": "2ed94e80-6efe-42b0-ca62-696d5c78725e"
      },
      "outputs": [
        {
          "data": {
            "text/plain": [
              "21476000.699999996"
            ]
          },
          "execution_count": 40,
          "metadata": {},
          "output_type": "execute_result"
        }
      ],
      "source": [
        "old['net_revenue'].sum()"
      ]
    },
    {
      "cell_type": "markdown",
      "metadata": {
        "id": "QselOSqZgq03"
      },
      "source": [
        "So the total revenue lost from attrition will be the sum of revenue from  2015 and revenue from 2016, which is equal to 16397370.16+21476000 = 37,873,370"
      ]
    },
    {
      "cell_type": "markdown",
      "metadata": {
        "id": "9sBfxOFChMV9"
      },
      "source": [
        "***Existing Customer Revenue Current Year***"
      ]
    },
    {
      "cell_type": "markdown",
      "metadata": {
        "id": "61HnzgdWhaCs"
      },
      "source": [
        "While calculating the exisitng customer revenue growth, I have calculated the exisitng customer revenue current year which is 2740887.39"
      ]
    },
    {
      "cell_type": "markdown",
      "metadata": {
        "id": "3g0BzOBfh7eG"
      },
      "source": [
        "***Existing Customer Revenue Prior Year***"
      ]
    },
    {
      "cell_type": "markdown",
      "metadata": {
        "id": "S7R_0Z_pjByy"
      },
      "source": [
        "While calculating the exisitng customer revenue growth, I have calculated the exisitng customer revenue in year 2016 which is 2620648.65 and the customer revenue in year 2015 which is 868493.65"
      ]
    },
    {
      "cell_type": "markdown",
      "metadata": {
        "id": "93n0BKMhjW2O"
      },
      "source": [
        "***Total Customers Current Year***"
      ]
    },
    {
      "cell_type": "code",
      "execution_count": 41,
      "metadata": {
        "id": "mzy1zQYQhweq"
      },
      "outputs": [],
      "source": [
        "#dataframe with datas from year 2017\n",
        "dfcurrent = df[df['year']==2017]"
      ]
    },
    {
      "cell_type": "code",
      "execution_count": 42,
      "metadata": {
        "colab": {
          "base_uri": "https://localhost:8080/",
          "height": 295
        },
        "id": "GyFtnAJbhwiD",
        "outputId": "3b9e71ed-bf29-4926-f636-4dd413a8a14d"
      },
      "outputs": [
        {
          "data": {
            "text/html": [
              "<div>\n",
              "<style scoped>\n",
              "    .dataframe tbody tr th:only-of-type {\n",
              "        vertical-align: middle;\n",
              "    }\n",
              "\n",
              "    .dataframe tbody tr th {\n",
              "        vertical-align: top;\n",
              "    }\n",
              "\n",
              "    .dataframe thead th {\n",
              "        text-align: right;\n",
              "    }\n",
              "</style>\n",
              "<table border=\"1\" class=\"dataframe\">\n",
              "  <thead>\n",
              "    <tr style=\"text-align: right;\">\n",
              "      <th></th>\n",
              "      <th>Unnamed: 0</th>\n",
              "      <th>net_revenue</th>\n",
              "      <th>year</th>\n",
              "    </tr>\n",
              "  </thead>\n",
              "  <tbody>\n",
              "    <tr>\n",
              "      <th>count</th>\n",
              "      <td>249987.000000</td>\n",
              "      <td>249987.000000</td>\n",
              "      <td>249987.0</td>\n",
              "    </tr>\n",
              "    <tr>\n",
              "      <th>mean</th>\n",
              "      <td>560933.000000</td>\n",
              "      <td>125.676515</td>\n",
              "      <td>2017.0</td>\n",
              "    </tr>\n",
              "    <tr>\n",
              "      <th>std</th>\n",
              "      <td>72165.175209</td>\n",
              "      <td>71.924943</td>\n",
              "      <td>0.0</td>\n",
              "    </tr>\n",
              "    <tr>\n",
              "      <th>min</th>\n",
              "      <td>435940.000000</td>\n",
              "      <td>1.000000</td>\n",
              "      <td>2017.0</td>\n",
              "    </tr>\n",
              "    <tr>\n",
              "      <th>25%</th>\n",
              "      <td>498436.500000</td>\n",
              "      <td>63.390000</td>\n",
              "      <td>2017.0</td>\n",
              "    </tr>\n",
              "    <tr>\n",
              "      <th>50%</th>\n",
              "      <td>560933.000000</td>\n",
              "      <td>125.810000</td>\n",
              "      <td>2017.0</td>\n",
              "    </tr>\n",
              "    <tr>\n",
              "      <th>75%</th>\n",
              "      <td>623429.500000</td>\n",
              "      <td>187.970000</td>\n",
              "      <td>2017.0</td>\n",
              "    </tr>\n",
              "    <tr>\n",
              "      <th>max</th>\n",
              "      <td>685926.000000</td>\n",
              "      <td>250.000000</td>\n",
              "      <td>2017.0</td>\n",
              "    </tr>\n",
              "  </tbody>\n",
              "</table>\n",
              "</div>"
            ],
            "text/plain": [
              "          Unnamed: 0    net_revenue      year\n",
              "count  249987.000000  249987.000000  249987.0\n",
              "mean   560933.000000     125.676515    2017.0\n",
              "std     72165.175209      71.924943       0.0\n",
              "min    435940.000000       1.000000    2017.0\n",
              "25%    498436.500000      63.390000    2017.0\n",
              "50%    560933.000000     125.810000    2017.0\n",
              "75%    623429.500000     187.970000    2017.0\n",
              "max    685926.000000     250.000000    2017.0"
            ]
          },
          "execution_count": 42,
          "metadata": {},
          "output_type": "execute_result"
        }
      ],
      "source": [
        "dfcurrent.describe()"
      ]
    },
    {
      "cell_type": "markdown",
      "metadata": {
        "id": "1XJN58q3jqp8"
      },
      "source": [
        "From the above data we can see that the count is 249987 which is the number of customers for current year"
      ]
    },
    {
      "cell_type": "markdown",
      "metadata": {
        "id": "OX08miK5j0Qo"
      },
      "source": [
        "***Total Customers Previous Year***"
      ]
    },
    {
      "cell_type": "code",
      "execution_count": 44,
      "metadata": {
        "id": "UNKnNLtohwpy"
      },
      "outputs": [],
      "source": [
        "#dataframe with datas from year 2016\n",
        "dfprev = df[df['year']==2016]"
      ]
    },
    {
      "cell_type": "code",
      "execution_count": 45,
      "metadata": {
        "colab": {
          "base_uri": "https://localhost:8080/",
          "height": 295
        },
        "id": "Y5T8Q_A9goRV",
        "outputId": "29d7f733-2ce8-4aa6-954d-adcc6e290087"
      },
      "outputs": [
        {
          "data": {
            "text/html": [
              "<div>\n",
              "<style scoped>\n",
              "    .dataframe tbody tr th:only-of-type {\n",
              "        vertical-align: middle;\n",
              "    }\n",
              "\n",
              "    .dataframe tbody tr th {\n",
              "        vertical-align: top;\n",
              "    }\n",
              "\n",
              "    .dataframe thead th {\n",
              "        text-align: right;\n",
              "    }\n",
              "</style>\n",
              "<table border=\"1\" class=\"dataframe\">\n",
              "  <thead>\n",
              "    <tr style=\"text-align: right;\">\n",
              "      <th></th>\n",
              "      <th>Unnamed: 0</th>\n",
              "      <th>net_revenue</th>\n",
              "      <th>year</th>\n",
              "    </tr>\n",
              "  </thead>\n",
              "  <tbody>\n",
              "    <tr>\n",
              "      <th>count</th>\n",
              "      <td>204646.000000</td>\n",
              "      <td>204646.000000</td>\n",
              "      <td>204646.0</td>\n",
              "    </tr>\n",
              "    <tr>\n",
              "      <th>mean</th>\n",
              "      <td>333616.500000</td>\n",
              "      <td>125.733919</td>\n",
              "      <td>2016.0</td>\n",
              "    </tr>\n",
              "    <tr>\n",
              "      <th>std</th>\n",
              "      <td>59076.355932</td>\n",
              "      <td>71.838149</td>\n",
              "      <td>0.0</td>\n",
              "    </tr>\n",
              "    <tr>\n",
              "      <th>min</th>\n",
              "      <td>231294.000000</td>\n",
              "      <td>1.000000</td>\n",
              "      <td>2016.0</td>\n",
              "    </tr>\n",
              "    <tr>\n",
              "      <th>25%</th>\n",
              "      <td>282455.250000</td>\n",
              "      <td>63.722500</td>\n",
              "      <td>2016.0</td>\n",
              "    </tr>\n",
              "    <tr>\n",
              "      <th>50%</th>\n",
              "      <td>333616.500000</td>\n",
              "      <td>125.760000</td>\n",
              "      <td>2016.0</td>\n",
              "    </tr>\n",
              "    <tr>\n",
              "      <th>75%</th>\n",
              "      <td>384777.750000</td>\n",
              "      <td>187.890000</td>\n",
              "      <td>2016.0</td>\n",
              "    </tr>\n",
              "    <tr>\n",
              "      <th>max</th>\n",
              "      <td>435939.000000</td>\n",
              "      <td>250.000000</td>\n",
              "      <td>2016.0</td>\n",
              "    </tr>\n",
              "  </tbody>\n",
              "</table>\n",
              "</div>"
            ],
            "text/plain": [
              "          Unnamed: 0    net_revenue      year\n",
              "count  204646.000000  204646.000000  204646.0\n",
              "mean   333616.500000     125.733919    2016.0\n",
              "std     59076.355932      71.838149       0.0\n",
              "min    231294.000000       1.000000    2016.0\n",
              "25%    282455.250000      63.722500    2016.0\n",
              "50%    333616.500000     125.760000    2016.0\n",
              "75%    384777.750000     187.890000    2016.0\n",
              "max    435939.000000     250.000000    2016.0"
            ]
          },
          "execution_count": 45,
          "metadata": {},
          "output_type": "execute_result"
        }
      ],
      "source": [
        "dfprev.describe()"
      ]
    },
    {
      "cell_type": "markdown",
      "metadata": {
        "id": "bQgHxJ30kIKG"
      },
      "source": [
        "From the above data we can see that the count is 204646 which is the number of customers for year 2016"
      ]
    },
    {
      "cell_type": "code",
      "execution_count": 47,
      "metadata": {
        "id": "IgAi7nQMgoVB"
      },
      "outputs": [],
      "source": [
        "#dataframe with datas from year 2015\n",
        "dfold = df[df['year']==2015]"
      ]
    },
    {
      "cell_type": "code",
      "execution_count": 48,
      "metadata": {
        "colab": {
          "base_uri": "https://localhost:8080/",
          "height": 295
        },
        "id": "dcSrMkeBgoWx",
        "outputId": "9a4391a3-7301-4f98-eb1b-47ffe6f73fe3"
      },
      "outputs": [
        {
          "data": {
            "text/html": [
              "<div>\n",
              "<style scoped>\n",
              "    .dataframe tbody tr th:only-of-type {\n",
              "        vertical-align: middle;\n",
              "    }\n",
              "\n",
              "    .dataframe tbody tr th {\n",
              "        vertical-align: top;\n",
              "    }\n",
              "\n",
              "    .dataframe thead th {\n",
              "        text-align: right;\n",
              "    }\n",
              "</style>\n",
              "<table border=\"1\" class=\"dataframe\">\n",
              "  <thead>\n",
              "    <tr style=\"text-align: right;\">\n",
              "      <th></th>\n",
              "      <th>Unnamed: 0</th>\n",
              "      <th>net_revenue</th>\n",
              "      <th>year</th>\n",
              "    </tr>\n",
              "  </thead>\n",
              "  <tbody>\n",
              "    <tr>\n",
              "      <th>count</th>\n",
              "      <td>231294.000000</td>\n",
              "      <td>231294.000000</td>\n",
              "      <td>231294.0</td>\n",
              "    </tr>\n",
              "    <tr>\n",
              "      <th>mean</th>\n",
              "      <td>115646.500000</td>\n",
              "      <td>125.540434</td>\n",
              "      <td>2015.0</td>\n",
              "    </tr>\n",
              "    <tr>\n",
              "      <th>std</th>\n",
              "      <td>66768.970918</td>\n",
              "      <td>71.793027</td>\n",
              "      <td>0.0</td>\n",
              "    </tr>\n",
              "    <tr>\n",
              "      <th>min</th>\n",
              "      <td>0.000000</td>\n",
              "      <td>1.000000</td>\n",
              "      <td>2015.0</td>\n",
              "    </tr>\n",
              "    <tr>\n",
              "      <th>25%</th>\n",
              "      <td>57823.250000</td>\n",
              "      <td>63.430000</td>\n",
              "      <td>2015.0</td>\n",
              "    </tr>\n",
              "    <tr>\n",
              "      <th>50%</th>\n",
              "      <td>115646.500000</td>\n",
              "      <td>125.655000</td>\n",
              "      <td>2015.0</td>\n",
              "    </tr>\n",
              "    <tr>\n",
              "      <th>75%</th>\n",
              "      <td>173469.750000</td>\n",
              "      <td>187.560000</td>\n",
              "      <td>2015.0</td>\n",
              "    </tr>\n",
              "    <tr>\n",
              "      <th>max</th>\n",
              "      <td>231293.000000</td>\n",
              "      <td>250.000000</td>\n",
              "      <td>2015.0</td>\n",
              "    </tr>\n",
              "  </tbody>\n",
              "</table>\n",
              "</div>"
            ],
            "text/plain": [
              "          Unnamed: 0    net_revenue      year\n",
              "count  231294.000000  231294.000000  231294.0\n",
              "mean   115646.500000     125.540434    2015.0\n",
              "std     66768.970918      71.793027       0.0\n",
              "min         0.000000       1.000000    2015.0\n",
              "25%     57823.250000      63.430000    2015.0\n",
              "50%    115646.500000     125.655000    2015.0\n",
              "75%    173469.750000     187.560000    2015.0\n",
              "max    231293.000000     250.000000    2015.0"
            ]
          },
          "execution_count": 48,
          "metadata": {},
          "output_type": "execute_result"
        }
      ],
      "source": [
        "dfold.describe()"
      ]
    },
    {
      "cell_type": "markdown",
      "metadata": {
        "id": "Q8ifp9BTka5b"
      },
      "source": [
        "From the above data we can see that the count is 231294 which is the number of customers for year 2015"
      ]
    },
    {
      "cell_type": "markdown",
      "metadata": {
        "id": "FHhEUHgnkgY_"
      },
      "source": [
        "***New Customers***"
      ]
    },
    {
      "cell_type": "markdown",
      "metadata": {
        "id": "ISi7N2xdlfVi"
      },
      "source": [
        "In second part of this case study we calculated the new customer revenue using newdf dataframe. So I am using that df to find the new customers"
      ]
    },
    {
      "cell_type": "code",
      "execution_count": 50,
      "metadata": {
        "id": "tT0nY1mDgoZe"
      },
      "outputs": [],
      "source": [
        "#dataframe with newcustomers from year 2017\n",
        "newcustomers = df[df['year']==2017]"
      ]
    },
    {
      "cell_type": "code",
      "execution_count": 51,
      "metadata": {
        "colab": {
          "base_uri": "https://localhost:8080/"
        },
        "id": "O0LxxeMykvvG",
        "outputId": "82061bdd-90c1-4282-b8de-2c3701d3394f"
      },
      "outputs": [
        {
          "data": {
            "text/plain": [
              "435940     mwrossuukz@gmail.com\n",
              "435941    qvjfterwnk@gmail.com \n",
              "435942     vlyigtgfzs@gmail.com\n",
              "435943     yfirychuhk@gmail.com\n",
              "435944     fdkiioqtli@gmail.com\n",
              "                  ...          \n",
              "685922     qzqttwiftu@gmail.com\n",
              "685923     pjodiifjop@gmail.com\n",
              "685924     appaplmgko@gmail.com\n",
              "685925     wvkpmwsgck@gmail.com\n",
              "685926     aregboumbw@gmail.com\n",
              "Name: customer_email, Length: 249987, dtype: object"
            ]
          },
          "execution_count": 51,
          "metadata": {},
          "output_type": "execute_result"
        }
      ],
      "source": [
        "newcustomers['customer_email']"
      ]
    },
    {
      "cell_type": "markdown",
      "metadata": {
        "id": "BM2X7DT6l8DV"
      },
      "source": [
        "The customer mails belong to the new customers, and the total new customers is 228262"
      ]
    },
    {
      "cell_type": "markdown",
      "metadata": {
        "id": "S_70fNL5mElV"
      },
      "source": [
        "***Lost Customers***"
      ]
    },
    {
      "cell_type": "code",
      "execution_count": 53,
      "metadata": {
        "id": "8_bKBfZpkvyO"
      },
      "outputs": [],
      "source": [
        "customers2016 = df[df['year']==2016]"
      ]
    },
    {
      "cell_type": "code",
      "execution_count": 54,
      "metadata": {
        "colab": {
          "base_uri": "https://localhost:8080/",
          "height": 295
        },
        "id": "bhVWnlRFn3OY",
        "outputId": "e2297f4b-92ad-49c7-9450-a863afb0382c"
      },
      "outputs": [
        {
          "data": {
            "text/html": [
              "<div>\n",
              "<style scoped>\n",
              "    .dataframe tbody tr th:only-of-type {\n",
              "        vertical-align: middle;\n",
              "    }\n",
              "\n",
              "    .dataframe tbody tr th {\n",
              "        vertical-align: top;\n",
              "    }\n",
              "\n",
              "    .dataframe thead th {\n",
              "        text-align: right;\n",
              "    }\n",
              "</style>\n",
              "<table border=\"1\" class=\"dataframe\">\n",
              "  <thead>\n",
              "    <tr style=\"text-align: right;\">\n",
              "      <th></th>\n",
              "      <th>Unnamed: 0</th>\n",
              "      <th>net_revenue</th>\n",
              "      <th>year</th>\n",
              "    </tr>\n",
              "  </thead>\n",
              "  <tbody>\n",
              "    <tr>\n",
              "      <th>count</th>\n",
              "      <td>204646.000000</td>\n",
              "      <td>204646.000000</td>\n",
              "      <td>204646.0</td>\n",
              "    </tr>\n",
              "    <tr>\n",
              "      <th>mean</th>\n",
              "      <td>333616.500000</td>\n",
              "      <td>125.733919</td>\n",
              "      <td>2016.0</td>\n",
              "    </tr>\n",
              "    <tr>\n",
              "      <th>std</th>\n",
              "      <td>59076.355932</td>\n",
              "      <td>71.838149</td>\n",
              "      <td>0.0</td>\n",
              "    </tr>\n",
              "    <tr>\n",
              "      <th>min</th>\n",
              "      <td>231294.000000</td>\n",
              "      <td>1.000000</td>\n",
              "      <td>2016.0</td>\n",
              "    </tr>\n",
              "    <tr>\n",
              "      <th>25%</th>\n",
              "      <td>282455.250000</td>\n",
              "      <td>63.722500</td>\n",
              "      <td>2016.0</td>\n",
              "    </tr>\n",
              "    <tr>\n",
              "      <th>50%</th>\n",
              "      <td>333616.500000</td>\n",
              "      <td>125.760000</td>\n",
              "      <td>2016.0</td>\n",
              "    </tr>\n",
              "    <tr>\n",
              "      <th>75%</th>\n",
              "      <td>384777.750000</td>\n",
              "      <td>187.890000</td>\n",
              "      <td>2016.0</td>\n",
              "    </tr>\n",
              "    <tr>\n",
              "      <th>max</th>\n",
              "      <td>435939.000000</td>\n",
              "      <td>250.000000</td>\n",
              "      <td>2016.0</td>\n",
              "    </tr>\n",
              "  </tbody>\n",
              "</table>\n",
              "</div>"
            ],
            "text/plain": [
              "          Unnamed: 0    net_revenue      year\n",
              "count  204646.000000  204646.000000  204646.0\n",
              "mean   333616.500000     125.733919    2016.0\n",
              "std     59076.355932      71.838149       0.0\n",
              "min    231294.000000       1.000000    2016.0\n",
              "25%    282455.250000      63.722500    2016.0\n",
              "50%    333616.500000     125.760000    2016.0\n",
              "75%    384777.750000     187.890000    2016.0\n",
              "max    435939.000000     250.000000    2016.0"
            ]
          },
          "execution_count": 54,
          "metadata": {},
          "output_type": "execute_result"
        }
      ],
      "source": [
        "customers2016.describe()"
      ]
    },
    {
      "cell_type": "code",
      "execution_count": 55,
      "metadata": {
        "id": "0k1E6En9n-S7"
      },
      "outputs": [],
      "source": [
        "customers2017 = df[df['year']==2017]"
      ]
    },
    {
      "cell_type": "code",
      "execution_count": 56,
      "metadata": {
        "id": "Fi9maHZ8oEs1"
      },
      "outputs": [],
      "source": [
        "#calculating the exisiting customers in 2017 from 2016\n",
        "existcustomers = customers2016[customers2016['customer_email'].isin(customers2017['customer_email'])]"
      ]
    },
    {
      "cell_type": "code",
      "execution_count": 57,
      "metadata": {
        "colab": {
          "base_uri": "https://localhost:8080/",
          "height": 295
        },
        "id": "-B4vg8NtodK0",
        "outputId": "ae5e621f-b13e-404b-de3c-0b9089516141"
      },
      "outputs": [
        {
          "data": {
            "text/html": [
              "<div>\n",
              "<style scoped>\n",
              "    .dataframe tbody tr th:only-of-type {\n",
              "        vertical-align: middle;\n",
              "    }\n",
              "\n",
              "    .dataframe tbody tr th {\n",
              "        vertical-align: top;\n",
              "    }\n",
              "\n",
              "    .dataframe thead th {\n",
              "        text-align: right;\n",
              "    }\n",
              "</style>\n",
              "<table border=\"1\" class=\"dataframe\">\n",
              "  <thead>\n",
              "    <tr style=\"text-align: right;\">\n",
              "      <th></th>\n",
              "      <th>Unnamed: 0</th>\n",
              "      <th>net_revenue</th>\n",
              "      <th>year</th>\n",
              "    </tr>\n",
              "  </thead>\n",
              "  <tbody>\n",
              "    <tr>\n",
              "      <th>count</th>\n",
              "      <td>20959.000000</td>\n",
              "      <td>20959.000000</td>\n",
              "      <td>20959.0</td>\n",
              "    </tr>\n",
              "    <tr>\n",
              "      <th>mean</th>\n",
              "      <td>333325.722840</td>\n",
              "      <td>125.036913</td>\n",
              "      <td>2016.0</td>\n",
              "    </tr>\n",
              "    <tr>\n",
              "      <th>std</th>\n",
              "      <td>59288.447226</td>\n",
              "      <td>71.551989</td>\n",
              "      <td>0.0</td>\n",
              "    </tr>\n",
              "    <tr>\n",
              "      <th>min</th>\n",
              "      <td>231301.000000</td>\n",
              "      <td>1.010000</td>\n",
              "      <td>2016.0</td>\n",
              "    </tr>\n",
              "    <tr>\n",
              "      <th>25%</th>\n",
              "      <td>281861.500000</td>\n",
              "      <td>63.315000</td>\n",
              "      <td>2016.0</td>\n",
              "    </tr>\n",
              "    <tr>\n",
              "      <th>50%</th>\n",
              "      <td>332788.000000</td>\n",
              "      <td>124.630000</td>\n",
              "      <td>2016.0</td>\n",
              "    </tr>\n",
              "    <tr>\n",
              "      <th>75%</th>\n",
              "      <td>384970.000000</td>\n",
              "      <td>185.910000</td>\n",
              "      <td>2016.0</td>\n",
              "    </tr>\n",
              "    <tr>\n",
              "      <th>max</th>\n",
              "      <td>435937.000000</td>\n",
              "      <td>249.970000</td>\n",
              "      <td>2016.0</td>\n",
              "    </tr>\n",
              "  </tbody>\n",
              "</table>\n",
              "</div>"
            ],
            "text/plain": [
              "          Unnamed: 0   net_revenue     year\n",
              "count   20959.000000  20959.000000  20959.0\n",
              "mean   333325.722840    125.036913   2016.0\n",
              "std     59288.447226     71.551989      0.0\n",
              "min    231301.000000      1.010000   2016.0\n",
              "25%    281861.500000     63.315000   2016.0\n",
              "50%    332788.000000    124.630000   2016.0\n",
              "75%    384970.000000    185.910000   2016.0\n",
              "max    435937.000000    249.970000   2016.0"
            ]
          },
          "execution_count": 57,
          "metadata": {},
          "output_type": "execute_result"
        }
      ],
      "source": [
        "existcustomers.describe()"
      ]
    },
    {
      "cell_type": "markdown",
      "metadata": {
        "id": "qBNJfWLco1_E"
      },
      "source": [
        "We can see that out of 204646 customers from 2016, only 20959 exist in 2017. Therefore the lost customers = 183687"
      ]
    }
  ],
  "metadata": {
    "colab": {
      "collapsed_sections": [],
      "name": "StoutPart2_Revenue.ipynb",
      "provenance": []
    },
    "kernelspec": {
      "display_name": "Python 3",
      "name": "python3"
    },
    "language_info": {
      "name": "python"
    }
  },
  "nbformat": 4,
  "nbformat_minor": 0
}
